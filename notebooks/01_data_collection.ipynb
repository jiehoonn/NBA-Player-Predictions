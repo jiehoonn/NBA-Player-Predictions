{
 "cells": [
  {
   "cell_type": "code",
   "execution_count": 2,
   "id": "85e41e47-5dec-452d-b776-8366975349cc",
   "metadata": {},
   "outputs": [],
   "source": [
    "from nba_api.stats.endpoints import playergamelog\n",
    "from nba_api.stats.static import players\n",
    "import pandas as pd\n",
    "import time\n",
    "from tqdm import tqdm"
   ]
  },
  {
   "cell_type": "code",
   "execution_count": 3,
   "id": "b34b4719-04b3-474e-aaec-16f9d06090dc",
   "metadata": {},
   "outputs": [],
   "source": [
    "player_names = ['Jayson Tatum', 'Jaylen Brown', 'Cam Thomas', 'Nic Claxton',\n",
    "                'Jalen Brunson', 'Mikal Bridges', 'Joel Embiid', 'Tyrese Maxey',\n",
    "                'Scottie Barnes', 'Brandon Ingram', 'Josh Giddey', 'Alex Caruso',\n",
    "                'Donovan Mitchell', 'Cade Cunningham', 'Tobias Harris', 'Tyrese Haliburton',\n",
    "                'Pascal Siakam', 'Giannis Antetokounmpo', 'Khris Middleton', 'Trae Young',\n",
    "                'Clint Capela', 'Lamelo Ball', 'Brandon Miller', 'Tyler Herro', \n",
    "                'Bam Adebayo', 'Paulo Banchero', 'Franz Wagner', 'CJ McCollum',\n",
    "                'Marvin Bagley III', 'Nikola Jokic', 'Russell Westbrook', 'Anthony Edwards',\n",
    "                'Karl Anthony-Towns', 'Shai Gilgeous-Alexander', 'Chet Holmgren', 'Stephen Curry',\n",
    "                'Jordan Poole', 'Lebron James', 'Luka Doncic', 'Anthony Davis',\n",
    "                'Kyrie Irving', 'Devin Booker', 'Kevin Durant', 'Bradley Beal',\n",
    "                'James Harden', 'Steven Adams', 'Fred Vanvleet', 'Collin Sexton',\n",
    "                'Duncan Robinson', 'Jimmy Butler']"
   ]
  },
  {
   "cell_type": "code",
   "execution_count": 4,
   "id": "644e84aa-e4c3-4994-aa31-00934861e0dc",
   "metadata": {},
   "outputs": [],
   "source": [
    "# Get player IDs\n",
    "all_players = players.get_players()\n",
    "player_ids = []\n",
    "for name in player_names:\n",
    "    player = [p for p in all_players if p['full_name'] == name]\n",
    "    if player:\n",
    "        player_ids.append(player[0]['id'])"
   ]
  },
  {
   "cell_type": "code",
   "execution_count": 5,
   "id": "945fc58f-9c48-4579-accd-adac5519a7ac",
   "metadata": {},
   "outputs": [
    {
     "name": "stderr",
     "output_type": "stream",
     "text": [
      "100%|██████████████████████████████████████████████████████████████████████████████████████████████████████████| 45/45 [00:52<00:00,  1.18s/it]\n"
     ]
    }
   ],
   "source": [
    "# Collect game logs for 2023-24 season\n",
    "all_gamelogs = []\n",
    "for player_id in tqdm(player_ids):\n",
    "    try:\n",
    "        gamelog = playergamelog.PlayerGameLog(\n",
    "            player_id=str(player_id),\n",
    "            season='2023-24',\n",
    "            season_type_all_star='Regular Season'\n",
    "        )\n",
    "        df = gamelog.get_data_frames()[0]\n",
    "        df['PLAYER_ID'] = player_id\n",
    "        all_gamelogs.append(df)\n",
    "        time.sleep(1.0)  # Rate limit: 1 req/sec\n",
    "    except Exception as e:\n",
    "        print(f\"Error for player {player_id}: {e}\")\n",
    "        continue"
   ]
  },
  {
   "cell_type": "code",
   "execution_count": 7,
   "id": "247e5485-b6d5-479b-ba21-64fface0d578",
   "metadata": {},
   "outputs": [
    {
     "name": "stdout",
     "output_type": "stream",
     "text": [
      "Collected 3003 game records for 45 players\n"
     ]
    },
    {
     "name": "stderr",
     "output_type": "stream",
     "text": [
      "/var/folders/bq/18hcx25x4_g1tyxp3zvylk140000gn/T/ipykernel_43637/1100488746.py:2: FutureWarning: The behavior of DataFrame concatenation with empty or all-NA entries is deprecated. In a future version, this will no longer exclude empty or all-NA columns when determining the result dtypes. To retain the old behavior, exclude the relevant entries before the concat operation.\n",
      "  gamelogs_df = pd.concat(all_gamelogs, ignore_index=True)\n"
     ]
    }
   ],
   "source": [
    "# Combine and save\n",
    "gamelogs_df = pd.concat(all_gamelogs, ignore_index=True)\n",
    "gamelogs_df.to_parquet('../data/raw/player_gamelogs_2023-24_sample.parquet')\n",
    "print(f\"Collected {len(gamelogs_df)} game records for {len(player_ids)} players\")"
   ]
  },
  {
   "cell_type": "code",
   "execution_count": 12,
   "id": "73dd52fa-472c-4e26-b7af-13df4a815948",
   "metadata": {},
   "outputs": [
    {
     "name": "stdout",
     "output_type": "stream",
     "text": [
      "============================================================\n",
      "DATA COLLECTION SUMMARY\n",
      "============================================================\n",
      "\n",
      " File saved successfully!\n",
      "  - Total games: 3,003\n",
      "  - Unique players: 44\n",
      "  - Date range: Apr 01, 2024 to Oct 31, 2023\n",
      "  - Columns: 28\n",
      "\n",
      " Target Variable Ranges:\n",
      "  - Points (PTS): 0 - 73 (avg: 21.2)\n",
      "  - Rebounds (REB): 0 - 25 (avg: 6.1)\n",
      "  - Assists (AST): 0 - 23 (avg: 5.1)\n",
      "\n",
      " Sample data:\n"
     ]
    },
    {
     "data": {
      "text/html": [
       "<div>\n",
       "<style scoped>\n",
       "    .dataframe tbody tr th:only-of-type {\n",
       "        vertical-align: middle;\n",
       "    }\n",
       "\n",
       "    .dataframe tbody tr th {\n",
       "        vertical-align: top;\n",
       "    }\n",
       "\n",
       "    .dataframe thead th {\n",
       "        text-align: right;\n",
       "    }\n",
       "</style>\n",
       "<table border=\"1\" class=\"dataframe\">\n",
       "  <thead>\n",
       "    <tr style=\"text-align: right;\">\n",
       "      <th></th>\n",
       "      <th>GAME_DATE</th>\n",
       "      <th>PLAYER_ID</th>\n",
       "      <th>MATCHUP</th>\n",
       "      <th>PTS</th>\n",
       "      <th>REB</th>\n",
       "      <th>AST</th>\n",
       "      <th>MIN</th>\n",
       "    </tr>\n",
       "  </thead>\n",
       "  <tbody>\n",
       "    <tr>\n",
       "      <th>0</th>\n",
       "      <td>Apr 11, 2024</td>\n",
       "      <td>1628369</td>\n",
       "      <td>BOS vs. NYK</td>\n",
       "      <td>18</td>\n",
       "      <td>4</td>\n",
       "      <td>7</td>\n",
       "      <td>32</td>\n",
       "    </tr>\n",
       "    <tr>\n",
       "      <th>1</th>\n",
       "      <td>Apr 09, 2024</td>\n",
       "      <td>1628369</td>\n",
       "      <td>BOS @ MIL</td>\n",
       "      <td>22</td>\n",
       "      <td>5</td>\n",
       "      <td>6</td>\n",
       "      <td>37</td>\n",
       "    </tr>\n",
       "    <tr>\n",
       "      <th>2</th>\n",
       "      <td>Apr 05, 2024</td>\n",
       "      <td>1628369</td>\n",
       "      <td>BOS vs. SAC</td>\n",
       "      <td>17</td>\n",
       "      <td>6</td>\n",
       "      <td>5</td>\n",
       "      <td>33</td>\n",
       "    </tr>\n",
       "    <tr>\n",
       "      <th>3</th>\n",
       "      <td>Apr 03, 2024</td>\n",
       "      <td>1628369</td>\n",
       "      <td>BOS vs. OKC</td>\n",
       "      <td>24</td>\n",
       "      <td>7</td>\n",
       "      <td>3</td>\n",
       "      <td>29</td>\n",
       "    </tr>\n",
       "    <tr>\n",
       "      <th>4</th>\n",
       "      <td>Apr 01, 2024</td>\n",
       "      <td>1628369</td>\n",
       "      <td>BOS @ CHA</td>\n",
       "      <td>25</td>\n",
       "      <td>10</td>\n",
       "      <td>4</td>\n",
       "      <td>34</td>\n",
       "    </tr>\n",
       "    <tr>\n",
       "      <th>5</th>\n",
       "      <td>Mar 30, 2024</td>\n",
       "      <td>1628369</td>\n",
       "      <td>BOS @ NOP</td>\n",
       "      <td>23</td>\n",
       "      <td>9</td>\n",
       "      <td>4</td>\n",
       "      <td>36</td>\n",
       "    </tr>\n",
       "    <tr>\n",
       "      <th>6</th>\n",
       "      <td>Mar 28, 2024</td>\n",
       "      <td>1628369</td>\n",
       "      <td>BOS @ ATL</td>\n",
       "      <td>31</td>\n",
       "      <td>13</td>\n",
       "      <td>6</td>\n",
       "      <td>45</td>\n",
       "    </tr>\n",
       "    <tr>\n",
       "      <th>7</th>\n",
       "      <td>Mar 25, 2024</td>\n",
       "      <td>1628369</td>\n",
       "      <td>BOS @ ATL</td>\n",
       "      <td>37</td>\n",
       "      <td>8</td>\n",
       "      <td>5</td>\n",
       "      <td>39</td>\n",
       "    </tr>\n",
       "    <tr>\n",
       "      <th>8</th>\n",
       "      <td>Mar 23, 2024</td>\n",
       "      <td>1628369</td>\n",
       "      <td>BOS @ CHI</td>\n",
       "      <td>26</td>\n",
       "      <td>2</td>\n",
       "      <td>6</td>\n",
       "      <td>37</td>\n",
       "    </tr>\n",
       "    <tr>\n",
       "      <th>9</th>\n",
       "      <td>Mar 20, 2024</td>\n",
       "      <td>1628369</td>\n",
       "      <td>BOS vs. MIL</td>\n",
       "      <td>31</td>\n",
       "      <td>8</td>\n",
       "      <td>4</td>\n",
       "      <td>39</td>\n",
       "    </tr>\n",
       "  </tbody>\n",
       "</table>\n",
       "</div>"
      ],
      "text/plain": [
       "      GAME_DATE  PLAYER_ID      MATCHUP  PTS  REB  AST  MIN\n",
       "0  Apr 11, 2024    1628369  BOS vs. NYK   18    4    7   32\n",
       "1  Apr 09, 2024    1628369    BOS @ MIL   22    5    6   37\n",
       "2  Apr 05, 2024    1628369  BOS vs. SAC   17    6    5   33\n",
       "3  Apr 03, 2024    1628369  BOS vs. OKC   24    7    3   29\n",
       "4  Apr 01, 2024    1628369    BOS @ CHA   25   10    4   34\n",
       "5  Mar 30, 2024    1628369    BOS @ NOP   23    9    4   36\n",
       "6  Mar 28, 2024    1628369    BOS @ ATL   31   13    6   45\n",
       "7  Mar 25, 2024    1628369    BOS @ ATL   37    8    5   39\n",
       "8  Mar 23, 2024    1628369    BOS @ CHI   26    2    6   37\n",
       "9  Mar 20, 2024    1628369  BOS vs. MIL   31    8    4   39"
      ]
     },
     "metadata": {},
     "output_type": "display_data"
    },
    {
     "name": "stdout",
     "output_type": "stream",
     "text": [
      "\n",
      " Ready for Phase 2: Exploration!\n"
     ]
    }
   ],
   "source": [
    "# === DATA INSPECTION ===\n",
    "print(\"=\"*60)\n",
    "print(\"DATA COLLECTION SUMMARY\")\n",
    "print(\"=\"*60)\n",
    "\n",
    "# Reload to verify it saved correctly\n",
    "df_check = pd.read_parquet('../data/raw/player_gamelogs_2023-24_sample.parquet')\n",
    "\n",
    "print(f\"\\n File saved successfully!\")\n",
    "print(f\"  - Total games: {len(df_check):,}\")\n",
    "print(f\"  - Unique players: {df_check['PLAYER_ID'].nunique()}\")\n",
    "print(f\"  - Date range: {df_check['GAME_DATE'].min()} to {df_check['GAME_DATE'].max()}\")\n",
    "print(f\"  - Columns: {len(df_check.columns)}\")\n",
    "\n",
    "print(f\"\\n Target Variable Ranges:\")\n",
    "print(f\"  - Points (PTS): {df_check['PTS'].min():.0f} - {df_check['PTS'].max():.0f} (avg: {df_check['PTS'].mean():.1f})\")\n",
    "print(f\"  - Rebounds (REB): {df_check['REB'].min():.0f} - {df_check['REB'].max():.0f} (avg: {df_check['REB'].mean():.1f})\")\n",
    "print(f\"  - Assists (AST): {df_check['AST'].min():.0f} - {df_check['AST'].max():.0f} (avg: {df_check['AST'].mean():.1f})\")\n",
    "\n",
    "print(f\"\\n Sample data:\")\n",
    "display(df_check[['GAME_DATE','PLAYER_ID', 'MATCHUP', 'PTS', 'REB','AST', 'MIN']].head(10))\n",
    "\n",
    "print(f\"\\n Ready for Phase 2: Exploration!\")"
   ]
  },
  {
   "cell_type": "code",
   "execution_count": null,
   "id": "1b6ce4b8-a250-4806-a6cb-be90191635a1",
   "metadata": {},
   "outputs": [],
   "source": []
  }
 ],
 "metadata": {
  "kernelspec": {
   "display_name": "Python (NBA Predictions)",
   "language": "python",
   "name": "nba-predictions"
  },
  "language_info": {
   "codemirror_mode": {
    "name": "ipython",
    "version": 3
   },
   "file_extension": ".py",
   "mimetype": "text/x-python",
   "name": "python",
   "nbconvert_exporter": "python",
   "pygments_lexer": "ipython3",
   "version": "3.10.1"
  }
 },
 "nbformat": 4,
 "nbformat_minor": 5
}
