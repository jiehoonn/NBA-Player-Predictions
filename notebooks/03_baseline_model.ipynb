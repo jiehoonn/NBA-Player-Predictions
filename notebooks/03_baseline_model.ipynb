{
 "cells": [
  {
   "cell_type": "markdown",
   "id": "c8d39d50-ba23-4e9d-a2e2-5a7435df2ce5",
   "metadata": {},
   "source": [
    "# Simple Features & Baseline Predictions"
   ]
  },
  {
   "cell_type": "markdown",
   "id": "08de740b-bffa-4cd0-98bc-a9c0c9d779f3",
   "metadata": {},
   "source": [
    "### Feature Engineering"
   ]
  },
  {
   "cell_type": "code",
   "execution_count": 2,
   "id": "8f9f13d4-a652-4448-96b7-5848db1bfb9e",
   "metadata": {},
   "outputs": [],
   "source": [
    "import pandas as pd\n",
    "import numpy as np"
   ]
  },
  {
   "cell_type": "code",
   "execution_count": 3,
   "id": "c961e753-610a-4ae5-b10e-365810ed9107",
   "metadata": {},
   "outputs": [],
   "source": [
    "df = pd.read_parquet('../data/raw/player_gamelogs_2023-24_sample.parquet')\n",
    "df['GAME_DATE'] = pd.to_datetime(df['GAME_DATE'])\n",
    "df = df.sort_values(['PLAYER_ID', 'GAME_DATE']).reset_index(drop=True)"
   ]
  },
  {
   "cell_type": "code",
   "execution_count": 4,
   "id": "6c131b35-d92b-4751-af8c-af8a81089144",
   "metadata": {},
   "outputs": [],
   "source": [
    "def add_rolling_features(df, windows=[3, 5]):\n",
    "    \"\"\"Add rolling average features.\"\"\"\n",
    "\n",
    "    features = []\n",
    "\n",
    "    for player_id in df['PLAYER_ID'].unique():\n",
    "        player_df = df[df['PLAYER_ID'] == player_id].copy()\n",
    "\n",
    "        for window in windows:\n",
    "            # Rolling averages (shift to avoid leakage)\n",
    "            player_df[f'pts_last_{window}'] = player_df['PTS'].shift(1).rolling(window, min_periods=1).mean()\n",
    "            player_df[f'reb_last_{window}'] = player_df['REB'].shift(1).rolling(window, min_periods=1).mean()\n",
    "            player_df[f'ast_last_{window}'] = player_df['AST'].shift(1).rolling(window, min_periods=1).mean()\n",
    "            player_df[f'min_last_{window}'] = player_df['MIN'].shift(1).rolling(window, min_periods=1).mean()\n",
    "\n",
    "        # Simple features\n",
    "        player_df['games_played'] = range(len(player_df))\n",
    "\n",
    "        features.append(player_df)\n",
    "\n",
    "    return pd.concat(features, ignore_index=True)"
   ]
  },
  {
   "cell_type": "code",
   "execution_count": 5,
   "id": "25f87b9a-425b-4bf9-a282-f7f95a44b142",
   "metadata": {},
   "outputs": [],
   "source": [
    "# Add features\n",
    "df_features = add_rolling_features(df, windows=[3, 5])"
   ]
  },
  {
   "cell_type": "code",
   "execution_count": 6,
   "id": "6876fd20-5762-461a-a36b-fec3cd38a37d",
   "metadata": {},
   "outputs": [],
   "source": [
    "# Remove first few games where we don't have history\n",
    "df_features = df_features.dropna(subset=['pts_last_5', 'reb_last_5', 'ast_last_5'])"
   ]
  },
  {
   "cell_type": "code",
   "execution_count": 7,
   "id": "d25d3bf7-46d8-4dd9-9322-eaef139b2e5f",
   "metadata": {},
   "outputs": [
    {
     "name": "stdout",
     "output_type": "stream",
     "text": [
      "Feature dataset: 2959 games with features\n"
     ]
    }
   ],
   "source": [
    "# Save\n",
    "df_features.to_parquet('../data/processed/features_simple.parquet')\n",
    "print(f\"Feature dataset: {len(df_features)} games with features\")"
   ]
  },
  {
   "cell_type": "markdown",
   "id": "5fb90738-0112-4da8-9e10-9a880d3f079e",
   "metadata": {},
   "source": [
    "### Create Train/Test Split"
   ]
  },
  {
   "cell_type": "code",
   "execution_count": 8,
   "id": "9d64452b-c4dc-47c9-8976-5da8ecc04c69",
   "metadata": {},
   "outputs": [
    {
     "name": "stdout",
     "output_type": "stream",
     "text": [
      "Train: 1174 games (2023-10-26 00:00:00 to 2023-12-31 00:00:00)\n",
      "Test: 1785 games (2024-01-01 00:00:00 to 2024-04-14 00:00:00)\n"
     ]
    }
   ],
   "source": [
    "# Train: Oct-Dec 2023\n",
    "# Test: Jan-Mar 2024\n",
    "\n",
    "df_features['GAME_DATE'] = pd.to_datetime(df_features['GAME_DATE'])\n",
    "\n",
    "train = df_features[df_features['GAME_DATE'] < '2024-01-01']\n",
    "test = df_features[df_features['GAME_DATE'] >= '2024-01-01']\n",
    "\n",
    "print(f\"Train: {len(train)} games ({train['GAME_DATE'].min()} to {train['GAME_DATE'].max()})\")\n",
    "print(f\"Test: {len(test)} games ({test['GAME_DATE'].min()} to {test['GAME_DATE'].max()})\")"
   ]
  },
  {
   "cell_type": "markdown",
   "id": "0df5a884-3f7d-472f-8399-0b75df020970",
   "metadata": {},
   "source": [
    "### Baseline Predictions"
   ]
  },
  {
   "cell_type": "code",
   "execution_count": 9,
   "id": "300d1985-9116-4bf7-8d8e-efc5fc62bbfd",
   "metadata": {},
   "outputs": [],
   "source": [
    "from sklearn.metrics import mean_absolute_error, mean_squared_error"
   ]
  },
  {
   "cell_type": "code",
   "execution_count": 10,
   "id": "6bbf1a58-bcf3-4d4a-9b8f-b7d8154f7882",
   "metadata": {},
   "outputs": [],
   "source": [
    "# Baseline: Use 5-game rolling average as prediction\n",
    "baseline_predictions = {\n",
    "    'PTS': test['pts_last_5'].values,\n",
    "    'REB': test['reb_last_5'].values,\n",
    "    'AST': test['ast_last_5'].values\n",
    "}\n",
    "\n",
    "baseline_actuals = {\n",
    "    'PTS': test['PTS'].values,\n",
    "    'REB': test['REB'].values,\n",
    "    'AST': test['AST'].values\n",
    "}"
   ]
  },
  {
   "cell_type": "code",
   "execution_count": 11,
   "id": "f2cc0b3f-1286-4020-a003-64e3b330dbe3",
   "metadata": {},
   "outputs": [
    {
     "name": "stdout",
     "output_type": "stream",
     "text": [
      "PTS Baseline - MAE: 6.468, RMSE: 8.387\n",
      "REB Baseline - MAE: 2.268, RMSE: 2.933\n",
      "AST Baseline - MAE: 2.049, RMSE: 2.632\n"
     ]
    }
   ],
   "source": [
    "# Compute baseline metrics\n",
    "baseline_results = {}\n",
    "for target in ['PTS', 'REB', 'AST']:\n",
    "    mae = mean_absolute_error(baseline_actuals[target], baseline_predictions[target])\n",
    "    rmse = np.sqrt(mean_squared_error(baseline_actuals[target], baseline_predictions[target]))\n",
    "    baseline_results[target] = {'MAE': mae, 'RMSE': rmse}\n",
    "    print(f\"{target} Baseline - MAE: {mae:.3f}, RMSE: {rmse:.3f}\")"
   ]
  },
  {
   "cell_type": "code",
   "execution_count": null,
   "id": "743b863f-9386-4c0b-996f-ad77eafced5c",
   "metadata": {},
   "outputs": [],
   "source": []
  }
 ],
 "metadata": {
  "kernelspec": {
   "display_name": "Python (NBA Predictions)",
   "language": "python",
   "name": "nba-predictions"
  },
  "language_info": {
   "codemirror_mode": {
    "name": "ipython",
    "version": 3
   },
   "file_extension": ".py",
   "mimetype": "text/x-python",
   "name": "python",
   "nbconvert_exporter": "python",
   "pygments_lexer": "ipython3",
   "version": "3.10.1"
  }
 },
 "nbformat": 4,
 "nbformat_minor": 5
}
